{
 "cells": [
  {
   "cell_type": "markdown",
   "id": "426486dd",
   "metadata": {
    "id": "426486dd"
   },
   "source": [
    "\n",
    "\n",
    "# Practical_1: Variables and Assignments"
   ]
  },
  {
   "cell_type": "markdown",
   "id": "67e0d1ab",
   "metadata": {},
   "source": [
    "\n",
    "### Exercise 1:\n",
    "Declare a variable `x` and assign it the value `10`.\n",
    "\n",
    "```python\n",
    "# Exercise 1\n",
    "```"
   ]
  },
  {
   "cell_type": "code",
   "execution_count": 1,
   "id": "2901e39d",
   "metadata": {},
   "outputs": [
    {
     "data": {
      "text/plain": [
       "10"
      ]
     },
     "execution_count": 1,
     "metadata": {},
     "output_type": "execute_result"
    }
   ],
   "source": [
    "x=10\n",
    "x"
   ]
  },
  {
   "cell_type": "markdown",
   "id": "5b576869",
   "metadata": {
    "id": "9fb19f0d"
   },
   "source": [
    "----\n",
    "\n",
    "---\n",
    "\n",
    "### Exercise 2:\n",
    "Assign the value `True` to a variable called `is_valid`.\n",
    "\n",
    "```python\n",
    "# Exercise 2"
   ]
  },
  {
   "cell_type": "code",
   "execution_count": 45,
   "id": "3e619e7d",
   "metadata": {},
   "outputs": [
    {
     "data": {
      "text/plain": [
       "'True'"
      ]
     },
     "execution_count": 45,
     "metadata": {},
     "output_type": "execute_result"
    }
   ],
   "source": [
    "is_valid=\"True\"\n",
    "is_valid"
   ]
  },
  {
   "cell_type": "markdown",
   "id": "1cf07c0b",
   "metadata": {
    "id": "9fb19f0d"
   },
   "source": [
    "```\n",
    "\n",
    "---\n",
    "\n",
    "### Exercise 3:\n",
    "Create a string variable `name` with the value \"Python Programming\".\n",
    "\n",
    "```python\n",
    "# Exercise 3\n",
    "```"
   ]
  },
  {
   "cell_type": "code",
   "execution_count": 10,
   "id": "6d68b8f0",
   "metadata": {},
   "outputs": [
    {
     "data": {
      "text/plain": [
       "'Python Programming'"
      ]
     },
     "execution_count": 10,
     "metadata": {},
     "output_type": "execute_result"
    }
   ],
   "source": [
    "name=\"Python Programming\"\n",
    "name"
   ]
  },
  {
   "cell_type": "markdown",
   "id": "6e00704b",
   "metadata": {
    "id": "9fb19f0d"
   },
   "source": [
    "---\n",
    "\n",
    "### Exercise 4:\n",
    "Assign the result of `5 + 3` to a variable `sum_result`.\n",
    "\n",
    "```python\n",
    "# Exercise 4"
   ]
  },
  {
   "cell_type": "code",
   "execution_count": 11,
   "id": "2ee6fb54",
   "metadata": {},
   "outputs": [
    {
     "data": {
      "text/plain": [
       "8"
      ]
     },
     "execution_count": 11,
     "metadata": {},
     "output_type": "execute_result"
    }
   ],
   "source": [
    "A=5\n",
    "B=3\n",
    "sum_result=A+B\n",
    "sum_result"
   ]
  },
  {
   "cell_type": "markdown",
   "id": "d6676e33",
   "metadata": {
    "id": "9fb19f0d"
   },
   "source": [
    "```\n",
    "\n",
    "---\n",
    "\n",
    "### Exercise 5:\n",
    "Assign multiple variabl\n",
    "es in one line: `a = 5`, `b = 10`, `c = 15`.\n",
    "\n",
    "```python\n",
    "# Exercise 5"
   ]
  },
  {
   "cell_type": "code",
   "execution_count": 12,
   "id": "53027f52",
   "metadata": {},
   "outputs": [
    {
     "data": {
      "text/plain": [
       "50"
      ]
     },
     "execution_count": 12,
     "metadata": {},
     "output_type": "execute_result"
    }
   ],
   "source": [
    "A,B=5,10\n",
    "c=A*B\n",
    "c"
   ]
  },
  {
   "cell_type": "markdown",
   "id": "6334248f",
   "metadata": {
    "id": "9fb19f0d"
   },
   "source": [
    "---\n",
    "\n",
    "### Exercise 6:\n",
    "Assign the value of one variable `x` to another variable `y`.\n",
    "```python\n",
    "# Exercise 6"
   ]
  },
  {
   "cell_type": "code",
   "execution_count": 14,
   "id": "e02407cc",
   "metadata": {},
   "outputs": [
    {
     "data": {
      "text/plain": [
       "(76, 67)"
      ]
     },
     "execution_count": 14,
     "metadata": {},
     "output_type": "execute_result"
    }
   ],
   "source": [
    "x=67\n",
    "y=76\n",
    "x,y=y,x\n",
    "x,y"
   ]
  },
  {
   "cell_type": "markdown",
   "id": "54926dfc",
   "metadata": {
    "id": "9fb19f0d"
   },
   "source": [
    "---\n",
    "\n",
    "#"
   ]
  },
  {
   "cell_type": "markdown",
   "id": "7a214266",
   "metadata": {
    "id": "9fb19f0d"
   },
   "source": [
    "## Exercise 7:\n",
    "Assign a floating-point number `9.8` to a variable `gravity`.\n",
    "\n",
    "```python\n",
    "# Exercise 7\n",
    "```"
   ]
  },
  {
   "cell_type": "code",
   "execution_count": 19,
   "id": "7f930031",
   "metadata": {},
   "outputs": [
    {
     "data": {
      "text/plain": [
       "9.8"
      ]
     },
     "execution_count": 19,
     "metadata": {},
     "output_type": "execute_result"
    }
   ],
   "source": [
    "gravity=9.8\n",
    "gravity"
   ]
  },
  {
   "cell_type": "markdown",
   "id": "f9cdd1d8",
   "metadata": {
    "id": "9fb19f0d"
   },
   "source": [
    "### Exercise 8:\n",
    "Create a variable `country` and assign it the string value of your favorite country.\n",
    "\n",
    "```python\n",
    "# Exercise 8\n",
    "```"
   ]
  },
  {
   "cell_type": "code",
   "execution_count": 22,
   "id": "2845947e",
   "metadata": {},
   "outputs": [
    {
     "data": {
      "text/plain": [
       "'senegal'"
      ]
     },
     "execution_count": 22,
     "metadata": {},
     "output_type": "execute_result"
    }
   ],
   "source": [
    "country='senegal'\n",
    "country"
   ]
  },
  {
   "cell_type": "markdown",
   "id": "f9702f21",
   "metadata": {
    "id": "9fb19f0d"
   },
   "source": []
  },
  {
   "cell_type": "markdown",
   "id": "40034b8e",
   "metadata": {
    "id": "9fb19f0d"
   },
   "source": [
    "---\n",
    "\n",
    "### Exercise 9:\n",
    "Change the value of variable `age` from `25` to `26` in two separate steps.\n",
    "\n",
    "```python\n",
    "# Exercise 9\n",
    "```"
   ]
  },
  {
   "cell_type": "code",
   "execution_count": 29,
   "id": "00bf6a59",
   "metadata": {},
   "outputs": [
    {
     "data": {
      "text/plain": [
       "26"
      ]
     },
     "execution_count": 29,
     "metadata": {},
     "output_type": "execute_result"
    }
   ],
   "source": [
    "age=25\n",
    "\n",
    "temp=age\n",
    "age=26\n",
    "age"
   ]
  },
  {
   "cell_type": "markdown",
   "id": "38d6a001",
   "metadata": {
    "id": "9fb19f0d"
   },
   "source": [
    "---\n",
    "\n",
    "### Exercise 10:\n",
    "Use one variable to store the result of subtracting two numbers `20 - 7`.\n",
    "\n",
    "```python\n",
    "# Exercise 10\n",
    "```"
   ]
  },
  {
   "cell_type": "code",
   "execution_count": 31,
   "id": "7ebd3d7b",
   "metadata": {},
   "outputs": [
    {
     "data": {
      "text/plain": [
       "13"
      ]
     },
     "execution_count": 31,
     "metadata": {},
     "output_type": "execute_result"
    }
   ],
   "source": [
    "result=20-7\n",
    "result"
   ]
  },
  {
   "cell_type": "markdown",
   "id": "bd4ad567",
   "metadata": {
    "id": "9fb19f0d"
   },
   "source": [
    "---\n",
    "\n",
    "### Exercise 11:\n",
    "Assign an integer value and a floating-point value to two different variables.\n",
    "\n",
    "```python\n",
    "# Exercise 11\n",
    "```"
   ]
  },
  {
   "cell_type": "code",
   "execution_count": 38,
   "id": "b09b671c",
   "metadata": {},
   "outputs": [
    {
     "data": {
      "text/plain": [
       "34.0"
      ]
     },
     "execution_count": 38,
     "metadata": {},
     "output_type": "execute_result"
    }
   ],
   "source": [
    "n=34\n",
    "float(n)\n"
   ]
  },
  {
   "cell_type": "markdown",
   "id": "6c6798a8",
   "metadata": {
    "id": "9fb19f0d"
   },
   "source": [
    "---\n",
    "\n",
    "### Exercise 12:\n",
    "Assign a boolean value `False` to a variable `is_completed`.\n",
    "\n",
    "```python\n",
    "# Exercise 12\n",
    "```"
   ]
  },
  {
   "cell_type": "code",
   "execution_count": 47,
   "id": "b9ed1943",
   "metadata": {},
   "outputs": [
    {
     "data": {
      "text/plain": [
       "'false'"
      ]
     },
     "execution_count": 47,
     "metadata": {},
     "output_type": "execute_result"
    }
   ],
   "source": [
    "is_complet=\"false\"\n",
    "is_complet"
   ]
  },
  {
   "cell_type": "markdown",
   "id": "83dc014f",
   "metadata": {
    "id": "9fb19f0d"
   },
   "source": [
    "---\n",
    "\n",
    "### Exercise 13:\n",
    "Swap the values of two variables `x` and `y`.\n",
    "\n",
    "```python\n",
    "# Exercise 13\n",
    "```\n",
    "\n",
    "---"
   ]
  },
  {
   "cell_type": "markdown",
   "id": "f257b483",
   "metadata": {
    "id": "9fb19f0d"
   },
   "source": [
    "x=y=35\n",
    "x,y"
   ]
  },
  {
   "cell_type": "markdown",
   "id": "c8ffb891",
   "metadata": {
    "id": "9fb19f0d"
   },
   "source": [
    "### Exercise 13:\n",
    "Swap the values of two variables `x` and `y`.\n",
    "\n",
    "```python\n",
    "# Exercise 13\n",
    "`"
   ]
  },
  {
   "cell_type": "markdown",
   "id": "54a50e69",
   "metadata": {
    "id": "9fb19f0d"
   },
   "source": [
    "``\n",
    "\n",
    "---"
   ]
  },
  {
   "cell_type": "markdown",
   "id": "0175c699",
   "metadata": {
    "id": "9fb19f0d"
   },
   "source": [
    "### Exercise 14:\n",
    "Assign a complex number `3 + 4j` to a variable `complex_num`.\n",
    "\n",
    "```python\n",
    "# Exercise 14\n",
    "```"
   ]
  },
  {
   "cell_type": "code",
   "execution_count": 49,
   "id": "93265b50",
   "metadata": {},
   "outputs": [
    {
     "name": "stdout",
     "output_type": "stream",
     "text": [
      "somme =3 +7J\n"
     ]
    }
   ],
   "source": [
    "A=3\n",
    "B=7\n",
    "print(f\"somme ={A} +{B}J\")"
   ]
  },
  {
   "cell_type": "markdown",
   "id": "301ed294",
   "metadata": {
    "id": "9fb19f0d"
   },
   "source": [
    "### Exercise 15:\n",
    "Reassign a variable from an integer to a string.\n",
    "\n",
    "```python\n",
    "# Exercise 15\n",
    "```"
   ]
  },
  {
   "cell_type": "code",
   "execution_count": 50,
   "id": "b985eed7",
   "metadata": {
    "id": "9fb19f0d"
   },
   "outputs": [
    {
     "data": {
      "text/plain": [
       "'13'"
      ]
     },
     "execution_count": 50,
     "metadata": {},
     "output_type": "execute_result"
    }
   ],
   "source": [
    "G=13\n",
    "str(G)"
   ]
  },
  {
   "cell_type": "markdown",
   "id": "f1c121c7",
   "metadata": {
    "id": "9fb19f0d"
   },
   "source": [
    "---"
   ]
  },
  {
   "cell_type": "markdown",
   "id": "07ca7703",
   "metadata": {
    "id": "9fb19f0d"
   },
   "source": [
    "### Exercise 16:\n",
    "Create two variables `first_name` and `last_name`, and assign them your first and last names.\n",
    "\n",
    "```python\n",
    "# Exercise 16"
   ]
  },
  {
   "cell_type": "code",
   "execution_count": 55,
   "id": "35316201",
   "metadata": {},
   "outputs": [
    {
     "name": "stdout",
     "output_type": "stream",
     "text": [
      "DEVE THIAW\n"
     ]
    }
   ],
   "source": [
    "first_name=\"DEVE\"\n",
    "last_name=\"THIAW\"\n",
    "\n",
    "print (first_name + \" \"+last_name)"
   ]
  },
  {
   "cell_type": "markdown",
   "id": "94420d85",
   "metadata": {
    "id": "9fb19f0d"
   },
   "source": [
    "```\n",
    "\n",
    "---\n",
    "\n",
    "### Exercise 17:\n",
    "Create a variable `temperature` and assign it the value of `35.5`.\n",
    "\n",
    "```python\n",
    "# Exercise 17\n",
    "```\n",
    "\n",
    "---"
   ]
  },
  {
   "cell_type": "code",
   "execution_count": 56,
   "id": "1c2f1d31",
   "metadata": {
    "id": "9fb19f0d"
   },
   "outputs": [
    {
     "data": {
      "text/plain": [
       "35.5"
      ]
     },
     "execution_count": 56,
     "metadata": {},
     "output_type": "execute_result"
    }
   ],
   "source": [
    "temperature=35.5\n",
    "temperature"
   ]
  },
  {
   "cell_type": "markdown",
   "id": "c75270db",
   "metadata": {
    "id": "9fb19f0d"
   },
   "source": [
    "``\n",
    "\n",
    "\n",
    "```\n",
    "\n",
    "---\n",
    "\n",
    "### Exercise 18:\n",
    "Assign the result of the multiplication of two numbers `8 * 6` to a variable `product`.\n",
    "\n",
    "```python\n",
    "# Exercise 18\n",
    "```"
   ]
  },
  {
   "cell_type": "code",
   "execution_count": 58,
   "id": "46cb0350",
   "metadata": {},
   "outputs": [
    {
     "data": {
      "text/plain": [
       "48"
      ]
     },
     "execution_count": 58,
     "metadata": {},
     "output_type": "execute_result"
    }
   ],
   "source": [
    "b=8\n",
    "f=6\n",
    "product=b*f\n",
    "product"
   ]
  },
  {
   "cell_type": "markdown",
   "id": "b156d365",
   "metadata": {
    "id": "9fb19f0d"
   },
   "source": [
    "---\n",
    "\n",
    "### Exercise 19:\n",
    "Assign a sentence of your choice to a variable `sentence`.\n",
    "\n",
    "```python\n",
    "# Exercise 19\n",
    "```"
   ]
  },
  {
   "cell_type": "code",
   "execution_count": 59,
   "id": "d68b50fb",
   "metadata": {
    "id": "9fb19f0d"
   },
   "outputs": [
    {
     "data": {
      "text/plain": [
       "'je veux taper vite'"
      ]
     },
     "execution_count": 59,
     "metadata": {},
     "output_type": "execute_result"
    }
   ],
   "source": [
    "sentence=\"je veux taper vite\"\n",
    "sentence"
   ]
  },
  {
   "cell_type": "markdown",
   "id": "fe8578df",
   "metadata": {
    "id": "9fb19f0d"
   },
   "source": [
    "--\n",
    "\n",
    "\n",
    "---\n",
    "\n",
    "### Exercise 20:\n",
    "Use an assignment to convert a string `'50'` into an integer variable `int_value`.\n",
    "\n",
    "```python\n",
    "# Exercise 20\n",
    "```"
   ]
  },
  {
   "cell_type": "code",
   "execution_count": 60,
   "id": "9bc3f5d3",
   "metadata": {},
   "outputs": [
    {
     "data": {
      "text/plain": [
       "'50'"
      ]
     },
     "execution_count": 60,
     "metadata": {},
     "output_type": "execute_result"
    }
   ],
   "source": [
    "int_value=50\n",
    "str(int_value)"
   ]
  },
  {
   "cell_type": "markdown",
   "id": "4c2693ca",
   "metadata": {
    "id": "9fb19f0d"
   },
   "source": [
    "---\n",
    "\n",
    "### Exercise 21:\n",
    "Assign the result of dividing `144` by `12` to a variable `quotient`.\n",
    "\n",
    "```python\n",
    "# Exercise 21\n",
    "```"
   ]
  },
  {
   "cell_type": "code",
   "execution_count": 61,
   "id": "9d03daed",
   "metadata": {
    "id": "9fb19f0d"
   },
   "outputs": [
    {
     "data": {
      "text/plain": [
       "12"
      ]
     },
     "execution_count": 61,
     "metadata": {},
     "output_type": "execute_result"
    }
   ],
   "source": [
    "r=144\n",
    "b=12\n",
    "quotient=r//b\n",
    "quotient"
   ]
  },
  {
   "cell_type": "markdown",
   "id": "c27dd34d",
   "metadata": {
    "id": "9fb19f0d"
   },
   "source": [
    "---\n",
    "\n",
    "### Exercise 22:\n",
    "Assign the remainder of `47 divided by 5` to a variable `remainder`.\n",
    "\n",
    "```python\n",
    "# Exercise 22\n",
    "```\n",
    "\n",
    "---"
   ]
  },
  {
   "cell_type": "code",
   "execution_count": 62,
   "id": "974f8c28",
   "metadata": {},
   "outputs": [
    {
     "data": {
      "text/plain": [
       "2"
      ]
     },
     "execution_count": 62,
     "metadata": {},
     "output_type": "execute_result"
    }
   ],
   "source": [
    "remainder=47%5\n",
    "remainder"
   ]
  },
  {
   "cell_type": "markdown",
   "id": "6335c0d0",
   "metadata": {
    "id": "9fb19f0d"
   },
   "source": [
    "### Exercise 23:\n",
    "Create a variable `is_student` and assign it the value `True`.\n",
    "\n",
    "```python\n",
    "# Exercise 23\n",
    "```"
   ]
  },
  {
   "cell_type": "code",
   "execution_count": null,
   "id": "f38f9a82",
   "metadata": {},
   "outputs": [],
   "source": [
    "is_student=\"True\"\n",
    "is_student\n"
   ]
  },
  {
   "cell_type": "markdown",
   "id": "c8eac0f7",
   "metadata": {
    "id": "9fb19f0d"
   },
   "source": [
    "---\n",
    "\n",
    "### Exercise 24:\n",
    "Use a variable to store the result of a modulo operation: `45 % 4`.\n",
    "\n",
    "```python\n",
    "# Exercise 24\n",
    "```"
   ]
  },
  {
   "cell_type": "code",
   "execution_count": 63,
   "id": "3d86b28b",
   "metadata": {},
   "outputs": [
    {
     "data": {
      "text/plain": [
       "1"
      ]
     },
     "execution_count": 63,
     "metadata": {},
     "output_type": "execute_result"
    }
   ],
   "source": [
    "var=45%4\n",
    "var"
   ]
  },
  {
   "cell_type": "markdown",
   "id": "c69f6c42",
   "metadata": {
    "id": "9fb19f0d"
   },
   "source": [
    "---"
   ]
  },
  {
   "cell_type": "markdown",
   "id": "b2af9ba9",
   "metadata": {
    "id": "9fb19f0d"
   },
   "source": [
    "### Exercise 25:\n",
    "Create a variable `pi` and assign it the value `3.14159`.\n",
    "\n",
    "```python\n",
    "# Exercise 25\n",
    "```"
   ]
  },
  {
   "cell_type": "code",
   "execution_count": null,
   "id": "97517731",
   "metadata": {},
   "outputs": [],
   "source": [
    "pi=3.14159\n",
    "pi"
   ]
  },
  {
   "cell_type": "markdown",
   "id": "17e299a7",
   "metadata": {
    "id": "9fb19f0d"
   },
   "source": [
    "---\n",
    "\n",
    "### Exercise 26:\n",
    "Create two variables `length` and `width`, assign them values, and calculate the area of a rectangle.\n",
    "\n",
    "```python\n",
    "# Exercise 26\n",
    "```\n",
    "\n",
    "---"
   ]
  },
  {
   "cell_type": "code",
   "execution_count": 64,
   "id": "29ef32ae",
   "metadata": {},
   "outputs": [
    {
     "data": {
      "text/plain": [
       "1272"
      ]
     },
     "execution_count": 64,
     "metadata": {},
     "output_type": "execute_result"
    }
   ],
   "source": [
    "lenght=24\n",
    "width=53\n",
    "area=lenght*width\n",
    "area"
   ]
  },
  {
   "cell_type": "markdown",
   "id": "31acf820",
   "metadata": {
    "id": "9fb19f0d"
   },
   "source": [
    "### Exercise 27:\n",
    "Assign a negative number to a variable `negative_value`.\n",
    "\n",
    "```python\n",
    "# Exercise 27\n",
    "```"
   ]
  },
  {
   "cell_type": "code",
   "execution_count": null,
   "id": "24916ad2",
   "metadata": {},
   "outputs": [],
   "source": [
    "negative_value=-24\n",
    "negatrive_value"
   ]
  },
  {
   "cell_type": "markdown",
   "id": "d180c104",
   "metadata": {
    "id": "9fb19f0d"
   },
   "source": [
    "---\n",
    "\n",
    "### Exercise 28:\n",
    "Assign a string containing a special character (e.g., \"Hello, World!\") to a variable `greeting`.\n",
    "\n",
    "```python\n",
    "# Exercise 28\n",
    "```"
   ]
  },
  {
   "cell_type": "code",
   "execution_count": null,
   "id": "d180084f",
   "metadata": {},
   "outputs": [],
   "source": [
    "greeting=\"hello world\"\n",
    "greeting"
   ]
  },
  {
   "cell_type": "markdown",
   "id": "88996c8e",
   "metadata": {
    "id": "9fb19f0d"
   },
   "source": [
    "---\n",
    "\n",
    "### Exercise 29:\n",
    "Create a variable `population` and assign it a large integer value (in billions).\n",
    "\n",
    "```python\n",
    "# Exercise 29\n",
    "```"
   ]
  },
  {
   "cell_type": "code",
   "execution_count": null,
   "id": "6d658b9e",
   "metadata": {},
   "outputs": [],
   "source": [
    "population=43000000000\n",
    "population"
   ]
  },
  {
   "cell_type": "markdown",
   "id": "0178cafd",
   "metadata": {
    "id": "9fb19f0d"
   },
   "source": [
    "---"
   ]
  },
  {
   "cell_type": "markdown",
   "id": "6eae897c",
   "metadata": {
    "id": "9fb19f0d"
   },
   "source": [
    "### Exercise 30:\n",
    "Use a variable to store the result of raising `2` to the power of `8`.\n",
    "\n",
    "```python\n",
    "# Exercise 30\n",
    "```"
   ]
  },
  {
   "cell_type": "code",
   "execution_count": null,
   "id": "d72d2d36",
   "metadata": {},
   "outputs": [],
   "source": [
    "res=2**8\n",
    "res"
   ]
  },
  {
   "cell_type": "markdown",
   "id": "048eb778",
   "metadata": {
    "id": "9fb19f0d"
   },
   "source": [
    "---\n",
    "\n",
    "### Exercise 31:\n",
    "Assign a list of your favorite fruits to a variable `fruits`.\n",
    "\n",
    "```python\n",
    "# Exercise 31\n",
    "```"
   ]
  },
  {
   "cell_type": "code",
   "execution_count": null,
   "id": "28f400f2",
   "metadata": {},
   "outputs": [],
   "source": [
    "fruit=[\"mangoes\",\"bananas\",\"pineapple\"]\n",
    "fruit"
   ]
  },
  {
   "cell_type": "markdown",
   "id": "03e18e3e",
   "metadata": {
    "id": "9fb19f0d"
   },
   "source": [
    "---\n",
    "\n",
    "### Exercise 32:\n",
    "Assign a tuple of three numbers to a variable `coordinates`.\n",
    "\n",
    "```python\n",
    "# Exercise 32\n",
    "```\n",
    "\n",
    "---"
   ]
  },
  {
   "cell_type": "code",
   "execution_count": 66,
   "id": "58b71c72",
   "metadata": {},
   "outputs": [
    {
     "data": {
      "text/plain": [
       "('vivre', 'dormir')"
      ]
     },
     "execution_count": 66,
     "metadata": {},
     "output_type": "execute_result"
    }
   ],
   "source": [
    "tuple=(\"vivre\",\"dormir\")\n",
    "tuple"
   ]
  },
  {
   "cell_type": "markdown",
   "id": "84652f0f",
   "metadata": {
    "id": "9fb19f0d"
   },
   "source": [
    "### Exercise 33:\n",
    "Assign a dictionary with keys `name` and `age` to a variable `person`.\n",
    "\n",
    "```python\n",
    "# Exercise 33\n",
    "```"
   ]
  },
  {
   "cell_type": "code",
   "execution_count": 67,
   "id": "51dee611",
   "metadata": {},
   "outputs": [],
   "source": [
    "person={\"name\":\"travis\",\"age\":[3,6,9,4]}\n",
    "person"
   ]
  },
  {
   "cell_type": "markdown",
   "id": "cdf085fb",
   "metadata": {
    "id": "9fb19f0d"
   },
   "source": [
    "---"
   ]
  },
  {
   "cell_type": "markdown",
   "id": "26df0003",
   "metadata": {
    "id": "9fb19f0d"
   },
   "source": [
    "### Exercise 34:\n",
    "Use variables to store the sum of two floating-point numbers.\n",
    "\n",
    "```python\n",
    "# Exercise 34\n",
    "```"
   ]
  },
  {
   "cell_type": "code",
   "execution_count": 68,
   "id": "48481278",
   "metadata": {},
   "outputs": [
    {
     "data": {
      "text/plain": [
       "13.5"
      ]
     },
     "execution_count": 68,
     "metadata": {},
     "output_type": "execute_result"
    }
   ],
   "source": [
    "var2=5.6+7.9\n",
    "var2"
   ]
  },
  {
   "cell_type": "markdown",
   "id": "5ef71b74",
   "metadata": {
    "id": "9fb19f0d"
   },
   "source": [
    "---\n",
    "\n",
    "### Exercise 35:\n",
    "Create a variable `is_sunny` and assign it the result of a comparison `10 > 5`.\n",
    "\n",
    "```python\n",
    "# Exercise 35\n",
    "```"
   ]
  },
  {
   "cell_type": "code",
   "execution_count": 70,
   "id": "4d5f36b7",
   "metadata": {},
   "outputs": [
    {
     "data": {
      "text/plain": [
       "'true'"
      ]
     },
     "execution_count": 70,
     "metadata": {},
     "output_type": "execute_result"
    }
   ],
   "source": [
    "if 10>5 :\n",
    "    is_sunny=\"true\"\n",
    "else:\n",
    "    is_sunny=\"false\"\n",
    "is_sunny"
   ]
  },
  {
   "cell_type": "markdown",
   "id": "65a015e4",
   "metadata": {
    "id": "9fb19f0d"
   },
   "source": [
    "---\n",
    "\n",
    "### Exercise 36:\n",
    "Assign a string and an integer to two different variables, then print both on one line.\n",
    "\n",
    "```python\n",
    "# Exercise 36\n",
    "```"
   ]
  },
  {
   "cell_type": "code",
   "execution_count": 72,
   "id": "48432e60",
   "metadata": {
    "id": "9fb19f0d"
   },
   "outputs": [
    {
     "name": "stdout",
     "output_type": "stream",
     "text": [
      "les deux suivan mangez hooo,546\n"
     ]
    }
   ],
   "source": [
    "truc=\"mangez hooo\"\n",
    "tric=546\n",
    "print(\"les deux suivan {},{}\".format(truc,tric))"
   ]
  },
  {
   "cell_type": "markdown",
   "id": "a51e1617",
   "metadata": {
    "id": "9fb19f0d"
   },
   "source": [
    "---\n",
    "\n",
    "---\n",
    "\n",
    "### Exercise 37:\n",
    "Reassign a variable that originally held a number to a boolean value.\n",
    "\n",
    "```python\n",
    "# Exercise 37\n",
    "```"
   ]
  },
  {
   "cell_type": "code",
   "execution_count": 7,
   "id": "fa1184ed",
   "metadata": {},
   "outputs": [
    {
     "data": {
      "text/plain": [
       "True"
      ]
     },
     "execution_count": 7,
     "metadata": {},
     "output_type": "execute_result"
    }
   ],
   "source": [
    "vivre=6477\n",
    "bool(vivre)\n",
    "resultat=vivre!=0\n",
    "resultat"
   ]
  },
  {
   "cell_type": "markdown",
   "id": "5208bea9",
   "metadata": {
    "id": "9fb19f0d"
   },
   "source": [
    "---"
   ]
  },
  {
   "cell_type": "markdown",
   "id": "52d077af",
   "metadata": {
    "id": "9fb19f0d"
   },
   "source": [
    "### Exercise 38:\n",
    "Create a variable `is_weekend` and assign it the result of `False`.\n",
    "\n",
    "```python\n",
    "# Exercise 38\n",
    "```"
   ]
  },
  {
   "cell_type": "code",
   "execution_count": 77,
   "id": "4d50a6a6",
   "metadata": {},
   "outputs": [
    {
     "data": {
      "text/plain": [
       "'false'"
      ]
     },
     "execution_count": 77,
     "metadata": {},
     "output_type": "execute_result"
    }
   ],
   "source": [
    "is_weekend=\"false\"\n",
    "is_weekend"
   ]
  },
  {
   "cell_type": "markdown",
   "id": "a1e868fb",
   "metadata": {
    "id": "9fb19f0d"
   },
   "source": [
    "---\n",
    "\n",
    "### Exercise 39:\n",
    "Assign a multi-line string to a variable `description`.\n",
    "\n",
    "```python\n",
    "# Exercise 39\n",
    "```"
   ]
  },
  {
   "cell_type": "code",
   "execution_count": 9,
   "id": "a34b3375",
   "metadata": {},
   "outputs": [
    {
     "name": "stdout",
     "output_type": "stream",
     "text": [
      "\n",
      "Quel est votre titre de poste actuel ?\n",
      "vivre est la meilleur chose que tu peux rever\n",
      "vivre est la meilleur chose que tu peux rever\n",
      "\n"
     ]
    }
   ],
   "source": [
    "\n",
    "print(\"\"\"\n",
    "Quel est votre titre de poste actuel ?\n",
    "vivre est la meilleur chose que tu peux rever\n",
    "vivre est la meilleur chose que tu peux rever\n",
    "\"\"\")"
   ]
  },
  {
   "cell_type": "markdown",
   "id": "c88f76ca-229a-4d0e-82ed-48dc93c3962a",
   "metadata": {
    "id": "9fb19f0d"
   },
   "source": [
    "---"
   ]
  },
  {
   "cell_type": "markdown",
   "id": "e259134f-ffd7-40c5-9fa0-118e090b70f7",
   "metadata": {
    "id": "9fb19f0d"
   },
   "source": [
    "### Exercise 40:\n",
    "Use variables to store the result of the absolute value of `-25`.\n",
    "\n",
    "```python\n",
    "# Exercise 40\n",
    "```"
   ]
  },
  {
   "cell_type": "code",
   "execution_count": 11,
   "id": "a5fcc936-f784-43f4-b58d-280610229a04",
   "metadata": {},
   "outputs": [
    {
     "data": {
      "text/plain": [
       "25"
      ]
     },
     "execution_count": 11,
     "metadata": {},
     "output_type": "execute_result"
    }
   ],
   "source": [
    "bottle=-25\n",
    "abs(bottle)"
   ]
  },
  {
   "cell_type": "markdown",
   "id": "70bac190-452c-4d4d-9681-4db6ed7964fa",
   "metadata": {
    "id": "9fb19f0d"
   },
   "source": [
    "---\n",
    "\n",
    "### Exercise 41:\n",
    "Assign the result of a floor division `100 // 6` to a variable `floor_div_result`.\n",
    "\n",
    "```python\n",
    "# Exercise 41\n",
    "```"
   ]
  },
  {
   "cell_type": "code",
   "execution_count": 15,
   "id": "a04fd437-e7a3-4cfa-9df2-3d923d681d57",
   "metadata": {
    "id": "9fb19f0d"
   },
   "outputs": [
    {
     "data": {
      "text/plain": [
       "16"
      ]
     },
     "execution_count": 15,
     "metadata": {},
     "output_type": "execute_result"
    }
   ],
   "source": [
    "floor_div_result=100//6\n",
    "floor_div_result"
   ]
  },
  {
   "cell_type": "markdown",
   "id": "9c5743b4-ac02-477a-a869-deb34b773dbb",
   "metadata": {
    "id": "9fb19f0d"
   },
   "source": [
    "---\n",
    "\n",
    "### Exercise 42:\n",
    "Assign the result of adding a floating-point number to an integer to a variable `mixed_sum`.\n",
    "\n",
    "```python\n",
    "# Exercise 42\n",
    "``"
   ]
  },
  {
   "cell_type": "code",
   "execution_count": 17,
   "id": "8fc755d7-eea3-4e65-a60e-6e739cb05fed",
   "metadata": {
    "id": "9fb19f0d"
   },
   "outputs": [
    {
     "data": {
      "text/plain": [
       "99.9"
      ]
     },
     "execution_count": 17,
     "metadata": {},
     "output_type": "execute_result"
    }
   ],
   "source": [
    "mixed_sum=43.9+56\n",
    "mixed_sum"
   ]
  },
  {
   "cell_type": "markdown",
   "id": "066cc422-af09-4ad5-9e0e-ac44b91cc653",
   "metadata": {
    "id": "9fb19f0d"
   },
   "source": [
    "`\n",
    "\n",
    "---"
   ]
  },
  {
   "cell_type": "markdown",
   "id": "6e4696df-cc03-4666-9946-37cf7a1adf9b",
   "metadata": {
    "id": "9fb19f0d"
   },
   "source": [
    "### Exercise 43:\n",
    "Assign a boolean value based on the comparison of two variables `a = 10` and `b = 15`.\n",
    "\n",
    "```python\n",
    "# Exercise 43\n",
    "``"
   ]
  },
  {
   "cell_type": "code",
   "execution_count": 21,
   "id": "e716c278-792b-4c4b-bf22-e9aeae292f5c",
   "metadata": {},
   "outputs": [
    {
     "data": {
      "text/plain": [
       "False"
      ]
     },
     "execution_count": 21,
     "metadata": {},
     "output_type": "execute_result"
    }
   ],
   "source": [
    "a=10\n",
    "b=15\n",
    "a>b\n",
    "\n"
   ]
  },
  {
   "cell_type": "markdown",
   "id": "d7d2c94e-5e0c-47e3-8cec-4d8898fe5316",
   "metadata": {
    "id": "9fb19f0d"
   },
   "source": [
    "`\n",
    "\n",
    "---"
   ]
  },
  {
   "cell_type": "markdown",
   "id": "e84e5176-d055-42cc-a8ab-008e62c2a2aa",
   "metadata": {
    "id": "9fb19f0d"
   },
   "source": [
    "### Exercise 44:\n",
    "Assign a long sentence to a variable and count its characters using `len()`.\n",
    "\n",
    "```python\n",
    "# Exercise 44\n",
    "```"
   ]
  },
  {
   "cell_type": "code",
   "execution_count": 23,
   "id": "e5190e91-40b9-4ec2-8bd7-3afeed90deaf",
   "metadata": {},
   "outputs": [
    {
     "data": {
      "text/plain": [
       "50"
      ]
     },
     "execution_count": 23,
     "metadata": {},
     "output_type": "execute_result"
    }
   ],
   "source": [
    "vibre=\"je veux dormir ce soir ou bien faire mes exercices\"\n",
    "len(vibre)"
   ]
  },
  {
   "cell_type": "markdown",
   "id": "bc3644eb-117b-4ca4-b47f-32c7e570af0b",
   "metadata": {
    "id": "9fb19f0d"
   },
   "source": [
    "---"
   ]
  },
  {
   "cell_type": "markdown",
   "id": "ccc0a266-3b2a-45e0-a586-edabf8538a8f",
   "metadata": {
    "id": "9fb19f0d"
   },
   "source": [
    "### Exercise 45:\n",
    "Assign a fractional result `7 / 3` to a variable `division_result`.\n",
    "\n",
    "```python\n",
    "# Exercise 45\n",
    "```"
   ]
  },
  {
   "cell_type": "code",
   "execution_count": 25,
   "id": "9ae617cc-0c79-4758-b073-e4189cf59bab",
   "metadata": {},
   "outputs": [
    {
     "data": {
      "text/plain": [
       "2.3333333333333335"
      ]
     },
     "execution_count": 25,
     "metadata": {},
     "output_type": "execute_result"
    }
   ],
   "source": [
    "division_result=7/3\n",
    "division_result"
   ]
  },
  {
   "cell_type": "markdown",
   "id": "39e8da31-9e13-4964-be2f-cdd8fcdcef30",
   "metadata": {
    "id": "9fb19f0d"
   },
   "source": [
    "---\n",
    "\n",
    "### Exercise 46:\n",
    "Create a variable `speed` and assign it the value of 100 kilometers per hour.\n",
    "\n",
    "```python\n",
    "# Exercise 46\n",
    "```"
   ]
  },
  {
   "cell_type": "code",
   "execution_count": 45,
   "id": "b733cc34-98f2-48b8-9cf3-ffd7c8f9b041",
   "metadata": {
    "id": "9fb19f0d"
   },
   "outputs": [
    {
     "name": "stdout",
     "output_type": "stream",
     "text": [
      " 100km/h\n"
     ]
    }
   ],
   "source": [
    "speed=100\n",
    "print (f\" {speed}km/h\")"
   ]
  },
  {
   "cell_type": "markdown",
   "id": "f783f147-63a8-4bbe-9c4a-4ea56fde0ba9",
   "metadata": {
    "id": "9fb19f0d"
   },
   "source": [
    "---"
   ]
  },
  {
   "cell_type": "markdown",
   "id": "e3bd8bc1-e2cc-4636-b2fb-414bffd60d5a",
   "metadata": {
    "id": "9fb19f0d"
   },
   "source": [
    "### Exercise 47:\n",
    "Assign a multi-variable equation like `y = 3x + 5` where `x = 4` to a variable `y`.\n",
    "\n",
    "```python\n",
    "# Exercise 47\n",
    "```"
   ]
  },
  {
   "cell_type": "code",
   "execution_count": 49,
   "id": "56a04e3e-8401-489b-9241-221c51dd6ca4",
   "metadata": {},
   "outputs": [
    {
     "name": "stdout",
     "output_type": "stream",
     "text": [
      "y=17\n"
     ]
    }
   ],
   "source": [
    "x=4\n",
    "y=3*x + 5\n",
    "print(f\"y={y}\")"
   ]
  },
  {
   "cell_type": "markdown",
   "id": "f18fa2bf-8b09-4fe6-97c0-cba5c49d1d32",
   "metadata": {
    "id": "9fb19f0d"
   },
   "source": [
    "---\n",
    "\n",
    "### Exercise 48:\n",
    "Use variables to calculate and store the average of three numbers.\n",
    "\n",
    "```python\n",
    "# Exercise 48\n",
    "```\n",
    "\n",
    "****"
   ]
  },
  {
   "cell_type": "code",
   "execution_count": 68,
   "id": "a89c19f3",
   "metadata": {},
   "outputs": [
    {
     "ename": "TypeError",
     "evalue": "object of type 'int' has no len()",
     "output_type": "error",
     "traceback": [
      "\u001b[1;31m---------------------------------------------------------------------------\u001b[0m",
      "\u001b[1;31mTypeError\u001b[0m                                 Traceback (most recent call last)",
      "Cell \u001b[1;32mIn[68], line 4\u001b[0m\n\u001b[0;32m      1\u001b[0m a ,b, c\u001b[38;5;241m=\u001b[39m\u001b[38;5;241m5\u001b[39m,\u001b[38;5;241m8\u001b[39m,\u001b[38;5;241m4\u001b[39m\n\u001b[0;32m      2\u001b[0m \u001b[38;5;28msum\u001b[39m\u001b[38;5;241m=\u001b[39ma\u001b[38;5;241m+\u001b[39mb\u001b[38;5;241m+\u001b[39mc\n\u001b[1;32m----> 4\u001b[0m average\u001b[38;5;241m=\u001b[39m\u001b[38;5;28msum\u001b[39m\u001b[38;5;241m/\u001b[39m\u001b[38;5;28mlen\u001b[39m(\u001b[38;5;28msum\u001b[39m)\n",
      "\u001b[1;31mTypeError\u001b[0m: object of type 'int' has no len()"
     ]
    }
   ],
   "source": [
    "a ,b, c=5,8,4\n",
    "sum=a+b+c\n",
    "\n",
    "average=sum/len(sum)"
   ]
  },
  {
   "cell_type": "code",
   "execution_count": null,
   "id": "56743f95-f2e9-4d7f-aeee-661b72efa2fc",
   "metadata": {},
   "outputs": [],
   "source": []
  },
  {
   "cell_type": "code",
   "execution_count": null,
   "id": "b38d8e50-eecb-42b8-9eff-3fae7404c58f",
   "metadata": {},
   "outputs": [],
   "source": []
  }
 ],
 "metadata": {
  "colab": {
   "provenance": []
  },
  "kernelspec": {
   "display_name": "Python 3 (ipykernel)",
   "language": "python",
   "name": "python3"
  },
  "language_info": {
   "codemirror_mode": {
    "name": "ipython",
    "version": 3
   },
   "file_extension": ".py",
   "mimetype": "text/x-python",
   "name": "python",
   "nbconvert_exporter": "python",
   "pygments_lexer": "ipython3",
   "version": "3.12.7"
  }
 },
 "nbformat": 4,
 "nbformat_minor": 5
}
